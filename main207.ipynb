{
 "cells": [
  {
   "cell_type": "code",
   "execution_count": 12,
   "metadata": {
    "collapsed": false
   },
   "outputs": [],
   "source": [
    "import numpy as np\n",
    "import pickle\n",
    "import roundcontrol\n",
    "roundcontrol = reload(roundcontrol)\n",
    "import preflop_table\n",
    "from preflop_table import card_prob\n",
    "import math\n",
    "import winningprob\n",
    "from winningprob import bestfive\n",
    "import preflop\n",
    "preflop = reload(preflop)\n",
    "import postFlop\n",
    "postFlop = reload(postFlop)\n",
    "import Strength_HMM as hmm\n",
    "hmm = reload(hmm)\n",
    "import Bluff_Bayesian_new as bluff\n",
    "bluff = reload(bluff)"
   ]
  },
  {
   "cell_type": "code",
   "execution_count": null,
   "metadata": {
    "collapsed": false,
    "scrolled": false
   },
   "outputs": [
    {
     "name": "stdout",
     "output_type": "stream",
     "text": [
      "User Cards:  ['KS', '7H']\n",
      "Your money in hand now is 498\n",
      "Your in pot now total is 2\n",
      "-------------------------------\n",
      "\n",
      "Your money in hand now is 499\n",
      "Your in pot now total is 1\n",
      "-------------------------------\n",
      "\n",
      "Player 0 money: 498\n",
      "Player 1 money: 499\n",
      "Total money on pot: 3\n",
      "\n",
      "Enter your decision: input 'C' for Call or 'R' for Raise:\n",
      "C\n",
      "Your money in hand now is 498\n",
      "Your in pot now total is 2\n",
      "-------------------------------\n",
      "\n",
      "\n",
      "Computer 0 Raise  3\n",
      "Your money in hand now is 495\n",
      "Your in pot now total is 5\n",
      "-------------------------------\n",
      "\n",
      "Enter your decision: input 'C' for Call or 'R' for Raise:\n",
      "F\n",
      "Wrong input entered\n"
     ]
    }
   ],
   "source": [
    "game = roundcontrol.roundcontrol(2)\n",
    "for i in xrange(2):\n",
    "    game.player(1).isComputer = False\n",
    "    game.player(0).isComputer = True\n",
    "    #game.publicCards = ['6S', 'QH', '8S', 'JH', 'KS']\n",
    "    #game.player(0).holeCards = ['TH', '8D']\n",
    "    #game.player(1).holeCards = ['QD', 'JD']\n",
    "    alterDealer = i - i/2 * 2\n",
    "    check, winIndex = preflop.preflop(game, alterDealer)\n",
    "    if check:\n",
    "        winIndex = postFlop.afterPreFlop(game, alterDealer)\n",
    "    postFlop.distributeMoney(game, winIndex)\n",
    "\n",
    "    game.cleanHistory()\n",
    "    \n",
    "    game.resetGame()\n",
    "    \n",
    "    #game.addMoney()\n",
    "    if game.player(0).moneyInHand <= 0 or game.player(1).moneyInHand <= 0:\n",
    "        break"
   ]
  },
  {
   "cell_type": "code",
   "execution_count": null,
   "metadata": {
    "collapsed": true
   },
   "outputs": [],
   "source": []
  },
  {
   "cell_type": "code",
   "execution_count": null,
   "metadata": {
    "collapsed": true
   },
   "outputs": [],
   "source": []
  },
  {
   "cell_type": "code",
   "execution_count": null,
   "metadata": {
    "collapsed": true
   },
   "outputs": [],
   "source": []
  },
  {
   "cell_type": "code",
   "execution_count": null,
   "metadata": {
    "collapsed": true
   },
   "outputs": [],
   "source": []
  },
  {
   "cell_type": "code",
   "execution_count": null,
   "metadata": {
    "collapsed": true
   },
   "outputs": [],
   "source": []
  }
 ],
 "metadata": {
  "kernelspec": {
   "display_name": "Python 2",
   "language": "python",
   "name": "python2"
  },
  "language_info": {
   "codemirror_mode": {
    "name": "ipython",
    "version": 2
   },
   "file_extension": ".py",
   "mimetype": "text/x-python",
   "name": "python",
   "nbconvert_exporter": "python",
   "pygments_lexer": "ipython2",
   "version": "2.7.9"
  }
 },
 "nbformat": 4,
 "nbformat_minor": 0
}
